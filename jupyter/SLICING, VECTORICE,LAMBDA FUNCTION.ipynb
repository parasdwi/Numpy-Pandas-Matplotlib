{
 "cells": [
  {
   "cell_type": "code",
   "execution_count": 1,
   "id": "e99c03fc",
   "metadata": {},
   "outputs": [],
   "source": [
    "import numpy as np"
   ]
  },
  {
   "cell_type": "code",
   "execution_count": 3,
   "id": "4b887eba",
   "metadata": {},
   "outputs": [],
   "source": [
    "a=np.array([2,3,5,7,9,10,11,12])"
   ]
  },
  {
   "cell_type": "code",
   "execution_count": 4,
   "id": "7f68c2bf",
   "metadata": {},
   "outputs": [
    {
     "name": "stdout",
     "output_type": "stream",
     "text": [
      "[ 3  5  7  9 10 11]\n",
      "[ 7  9 10]\n"
     ]
    }
   ],
   "source": [
    "print(a[1:-1])\n",
    "print(a[3:6])"
   ]
  },
  {
   "cell_type": "code",
   "execution_count": 2,
   "id": "2bb70c06",
   "metadata": {},
   "outputs": [
    {
     "name": "stdout",
     "output_type": "stream",
     "text": [
      "[[2 3 4]\n",
      " [5 7 1]\n",
      " [0 6 9]]\n"
     ]
    }
   ],
   "source": [
    "b=np.array([[2,3,4],[5,7,1],[0,6,9]])\n",
    "print(b)"
   ]
  },
  {
   "cell_type": "code",
   "execution_count": 11,
   "id": "b0de6b7d",
   "metadata": {},
   "outputs": [
    {
     "name": "stdout",
     "output_type": "stream",
     "text": [
      "[[5 7]\n",
      " [0 6]]\n",
      "[[2]\n",
      " [5]]\n"
     ]
    }
   ],
   "source": [
    "print(b[1:,:-1])\n",
    "print(b[:-1,:1])"
   ]
  },
  {
   "cell_type": "markdown",
   "id": "62b44b54",
   "metadata": {},
   "source": [
    "## VECTORICE AND LAMBDA"
   ]
  },
  {
   "cell_type": "code",
   "execution_count": 5,
   "id": "e9adaf35",
   "metadata": {},
   "outputs": [],
   "source": [
    "a=np.array(['jim','josh','ravi','nandu','suyash','kumkum','jimmy','jack'])"
   ]
  },
  {
   "cell_type": "code",
   "execution_count": 25,
   "id": "933a4ca3",
   "metadata": {},
   "outputs": [
    {
     "name": "stdout",
     "output_type": "stream",
     "text": [
      "ravi\n"
     ]
    }
   ],
   "source": [
    "# lamda returns the value of element \n",
    "f=(lambda s: s[2])(a)\n",
    "print(f)"
   ]
  },
  {
   "cell_type": "code",
   "execution_count": 28,
   "id": "59edfe82",
   "metadata": {},
   "outputs": [
    {
     "name": "stdout",
     "output_type": "stream",
     "text": [
      "['j' 'j' 'r' 'n' 's' 'k' 'j' 'j']\n"
     ]
    }
   ],
   "source": [
    "# vectorice return a array with first letter\n",
    "g=np.vectorize(lambda s: s[0])(a)\n",
    "print(g)"
   ]
  },
  {
   "cell_type": "code",
   "execution_count": 55,
   "id": "a2dd0daa",
   "metadata": {},
   "outputs": [
    {
     "name": "stdout",
     "output_type": "stream",
     "text": [
      "[ True  True False False False False  True  True]\n",
      "['jim' 'josh' 'jimmy' 'jack']\n",
      "4\n"
     ]
    }
   ],
   "source": [
    "# USE TO FIND NAMES STARTING WITH SPECIFIC WORD\n",
    "name_j=np.vectorize(lambda s: s[0])(a)=='j'\n",
    "print(name_j)\n",
    "print(a[name_j])\n",
    "c=0\n",
    "for i in range(len(name_j)):\n",
    "    if name_j[i]==True:\n",
    "        c+=1\n",
    "print(c)"
   ]
  }
 ],
 "metadata": {
  "kernelspec": {
   "display_name": "Python 3 (ipykernel)",
   "language": "python",
   "name": "python3"
  },
  "language_info": {
   "codemirror_mode": {
    "name": "ipython",
    "version": 3
   },
   "file_extension": ".py",
   "mimetype": "text/x-python",
   "name": "python",
   "nbconvert_exporter": "python",
   "pygments_lexer": "ipython3",
   "version": "3.9.4"
  }
 },
 "nbformat": 4,
 "nbformat_minor": 5
}
