{
 "cells": [
  {
   "cell_type": "code",
   "execution_count": 19,
   "id": "5550e674",
   "metadata": {},
   "outputs": [],
   "source": [
    "import numpy as np\n",
    "from matplotlib import pyplot as plt"
   ]
  },
  {
   "cell_type": "code",
   "execution_count": 5,
   "id": "be16efea",
   "metadata": {},
   "outputs": [
    {
     "name": "stdout",
     "output_type": "stream",
     "text": [
      "[[ 3  4  5  3]\n",
      " [33 55 66 11]]\n"
     ]
    }
   ],
   "source": [
    "#2-d array\n",
    "a=np.array([[3,4,5,3],[33,55,66,11]])\n",
    "print(a)"
   ]
  },
  {
   "cell_type": "code",
   "execution_count": 10,
   "id": "d38211b2",
   "metadata": {},
   "outputs": [
    {
     "name": "stdout",
     "output_type": "stream",
     "text": [
      "5\n",
      "[ 3 33]\n",
      "[33 55 66 11]\n"
     ]
    }
   ],
   "source": [
    "print(a[0][2])\n",
    "print(a[:,0])\n",
    "print(a[1,:])"
   ]
  },
  {
   "cell_type": "code",
   "execution_count": 16,
   "id": "5877686c",
   "metadata": {},
   "outputs": [
    {
     "name": "stdout",
     "output_type": "stream",
     "text": [
      "[[[ 3  4]\n",
      "  [ 2  6]]\n",
      "\n",
      " [[54 65]\n",
      "  [44 34]]]\n"
     ]
    }
   ],
   "source": [
    "#3-d array\n",
    "b=np.array([[[3,4],[2,6]],[[54,65],[44,34]]])\n",
    "print(b)"
   ]
  },
  {
   "cell_type": "code",
   "execution_count": 18,
   "id": "3a9940f4",
   "metadata": {},
   "outputs": [
    {
     "name": "stdout",
     "output_type": "stream",
     "text": [
      "44\n",
      "[[ 3  4]\n",
      " [54 65]]\n",
      "[[3 4]\n",
      " [2 6]]\n",
      "[[ 4  6]\n",
      " [65 34]]\n"
     ]
    }
   ],
   "source": [
    "print(b[1,1,0])\n",
    "print(b[:,0,:])\n",
    "print(b[0,:,:])\n",
    "print(b[:,:,1])"
   ]
  },
  {
   "cell_type": "code",
   "execution_count": 22,
   "id": "30072333",
   "metadata": {},
   "outputs": [
    {
     "name": "stdout",
     "output_type": "stream",
     "text": [
      "[[[ 2  2]\n",
      "  [ 2  6]]\n",
      "\n",
      " [[ 3  3]\n",
      "  [44 34]]]\n"
     ]
    }
   ],
   "source": [
    "# to replace\n",
    "b[:,0,:]=[[2,2],[3,3]]\n",
    "print(b)"
   ]
  },
  {
   "cell_type": "code",
   "execution_count": 3,
   "id": "907b7e8b",
   "metadata": {},
   "outputs": [
    {
     "name": "stdout",
     "output_type": "stream",
     "text": [
      "[1.         1.03030303 1.06060606 1.09090909 1.12121212 1.15151515\n",
      " 1.18181818 1.21212121 1.24242424 1.27272727 1.3030303  1.33333333\n",
      " 1.36363636 1.39393939 1.42424242 1.45454545 1.48484848 1.51515152\n",
      " 1.54545455 1.57575758 1.60606061 1.63636364 1.66666667 1.6969697\n",
      " 1.72727273 1.75757576 1.78787879 1.81818182 1.84848485 1.87878788\n",
      " 1.90909091 1.93939394 1.96969697 2.         2.03030303 2.06060606\n",
      " 2.09090909 2.12121212 2.15151515 2.18181818 2.21212121 2.24242424\n",
      " 2.27272727 2.3030303  2.33333333 2.36363636 2.39393939 2.42424242\n",
      " 2.45454545 2.48484848 2.51515152 2.54545455 2.57575758 2.60606061\n",
      " 2.63636364 2.66666667 2.6969697  2.72727273 2.75757576 2.78787879\n",
      " 2.81818182 2.84848485 2.87878788 2.90909091 2.93939394 2.96969697\n",
      " 3.         3.03030303 3.06060606 3.09090909 3.12121212 3.15151515\n",
      " 3.18181818 3.21212121 3.24242424 3.27272727 3.3030303  3.33333333\n",
      " 3.36363636 3.39393939 3.42424242 3.45454545 3.48484848 3.51515152\n",
      " 3.54545455 3.57575758 3.60606061 3.63636364 3.66666667 3.6969697\n",
      " 3.72727273 3.75757576 3.78787879 3.81818182 3.84848485 3.87878788\n",
      " 3.90909091 3.93939394 3.96969697 4.        ]\n"
     ]
    }
   ],
   "source": [
    "a= np.linspace(1,4,100)\n",
    "print(a)"
   ]
  },
  {
   "cell_type": "code",
   "execution_count": 5,
   "id": "8127725b",
   "metadata": {},
   "outputs": [
    {
     "name": "stdout",
     "output_type": "stream",
     "text": [
      "[1.  1.2 1.4 1.6 1.8 2.  2.2 2.4 2.6 2.8 3.  3.2 3.4 3.6 3.8]\n"
     ]
    }
   ],
   "source": [
    "b= np.arange(1,4,0.2)\n",
    "print(b)\n"
   ]
  },
  {
   "cell_type": "code",
   "execution_count": 25,
   "id": "58ec8e20",
   "metadata": {},
   "outputs": [
    {
     "data": {
      "text/plain": [
       "[<matplotlib.lines.Line2D at 0x1db40871520>]"
      ]
     },
     "execution_count": 25,
     "metadata": {},
     "output_type": "execute_result"
    },
    {
     "data": {
      "image/png": "[encoded data removed]",
      "text/plain": [
       "<Figure size 432x288 with 1 Axes>"
      ]
     },
     "metadata": {
      "needs_background": "light"
     },
     "output_type": "display_data"
    }
   ],
   "source": [
    "c=b*b\n",
    "plt.plot(b,c)"
   ]
  },
  {
   "cell_type": "code",
   "execution_count": null,
   "id": "37ed4cdc",
   "metadata": {},
   "outputs": [],
   "source": []
  }
 ],
 "metadata": {
  "kernelspec": {
   "display_name": "Python 3 (ipykernel)",
   "language": "python",
   "name": "python3"
  },
  "language_info": {
   "codemirror_mode": {
    "name": "ipython",
    "version": 3
   },
   "file_extension": ".py",
   "mimetype": "text/x-python",
   "name": "python",
   "nbconvert_exporter": "python",
   "pygments_lexer": "ipython3",
   "version": "3.9.4"
  }
 },
 "nbformat": 4,
 "nbformat_minor": 5
}
