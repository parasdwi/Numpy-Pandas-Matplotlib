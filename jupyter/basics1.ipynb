{
 "cells": [
  {
   "cell_type": "code",
   "execution_count": 3,
   "id": "230e9e1c",
   "metadata": {},
   "outputs": [
    {
     "name": "stdout",
     "output_type": "stream",
     "text": [
      "True\n"
     ]
    }
   ],
   "source": [
    "list=[44,55,63,65,24,54]\n",
    "print(44 in list)"
   ]
  },
  {
   "cell_type": "code",
   "execution_count": 1,
   "id": "d9a2f83d",
   "metadata": {},
   "outputs": [
    {
     "name": "stdout",
     "output_type": "stream",
     "text": [
      "[434, 545, 65, 768, 3, 6, 54, 34, 4]\n"
     ]
    }
   ],
   "source": [
    "list =[23,434,545,65,768,6,54,34]\n",
    "list.insert(5,3)\n",
    "list.pop(0)\n",
    "list.append(4)\n",
    "print(list)"
   ]
  }
 ],
 "metadata": {
  "kernelspec": {
   "display_name": "Python 3 (ipykernel)",
   "language": "python",
   "name": "python3"
  },
  "language_info": {
   "codemirror_mode": {
    "name": "ipython",
    "version": 3
   },
   "file_extension": ".py",
   "mimetype": "text/x-python",
   "name": "python",
   "nbconvert_exporter": "python",
   "pygments_lexer": "ipython3",
   "version": "3.9.4"
  }
 },
 "nbformat": 4,
 "nbformat_minor": 5
}
