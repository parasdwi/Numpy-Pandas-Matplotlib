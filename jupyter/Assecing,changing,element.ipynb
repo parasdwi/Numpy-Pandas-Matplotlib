{
 "cells": [
  {
   "cell_type": "code",
   "execution_count": 11,
   "id": "9548c35c",
   "metadata": {},
   "outputs": [],
   "source": [
    "import numpy as np"
   ]
  },
  {
   "cell_type": "code",
   "execution_count": 12,
   "id": "889c68d6",
   "metadata": {},
   "outputs": [
    {
     "name": "stdout",
     "output_type": "stream",
     "text": [
      "[[34  5 45 66]\n",
      " [45 25 66 34]]\n"
     ]
    }
   ],
   "source": [
    "a=np.array([[34,5,45,66],[45,25,66,34]])\n",
    "print(a)"
   ]
  },
  {
   "cell_type": "code",
   "execution_count": 13,
   "id": "daf5f468",
   "metadata": {},
   "outputs": [
    {
     "data": {
      "text/plain": [
       "66"
      ]
     },
     "execution_count": 13,
     "metadata": {},
     "output_type": "execute_result"
    }
   ],
   "source": [
    "# getting element\n",
    "a[1][2]"
   ]
  },
  {
   "cell_type": "code",
   "execution_count": 20,
   "id": "2213a70f",
   "metadata": {},
   "outputs": [
    {
     "data": {
      "text/plain": [
       "array([34,  5, 45, 66])"
      ]
     },
     "execution_count": 20,
     "metadata": {},
     "output_type": "execute_result"
    }
   ],
   "source": [
    "# getting row\n",
    "a[0,:]"
   ]
  },
  {
   "cell_type": "code",
   "execution_count": 21,
   "id": "e1a61b06",
   "metadata": {},
   "outputs": [
    {
     "data": {
      "text/plain": [
       "array([66, 34])"
      ]
     },
     "execution_count": 21,
     "metadata": {},
     "output_type": "execute_result"
    }
   ],
   "source": [
    "# getting collumn\n",
    "a[:,3]"
   ]
  },
  {
   "cell_type": "code",
   "execution_count": 22,
   "id": "c675ac4a",
   "metadata": {},
   "outputs": [
    {
     "name": "stdout",
     "output_type": "stream",
     "text": [
      "[[34  5 45 66]\n",
      " [45 25 66 24]]\n",
      "[[34  5  4 66]\n",
      " [45 25  4 24]]\n"
     ]
    }
   ],
   "source": [
    "a[1,3]=24\n",
    "print(a)\n",
    "a[:,2]=4\n",
    "print(a)"
   ]
  },
  {
   "cell_type": "code",
   "execution_count": null,
   "id": "93f140d9",
   "metadata": {},
   "outputs": [],
   "source": []
  }
 ],
 "metadata": {
  "kernelspec": {
   "display_name": "Python 3 (ipykernel)",
   "language": "python",
   "name": "python3"
  },
  "language_info": {
   "codemirror_mode": {
    "name": "ipython",
    "version": 3
   },
   "file_extension": ".py",
   "mimetype": "text/x-python",
   "name": "python",
   "nbconvert_exporter": "python",
   "pygments_lexer": "ipython3",
   "version": "3.9.4"
  }
 },
 "nbformat": 4,
 "nbformat_minor": 5
}
