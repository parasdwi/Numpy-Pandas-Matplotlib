{
 "cells": [
  {
   "cell_type": "code",
   "execution_count": 8,
   "id": "5a3f7ef6",
   "metadata": {},
   "outputs": [],
   "source": [
    "import numpy as np\n",
    "from matplotlib import pyplot as plt"
   ]
  },
  {
   "cell_type": "markdown",
   "id": "5327da4a",
   "metadata": {},
   "source": [
    "## Transpose"
   ]
  },
  {
   "cell_type": "code",
   "execution_count": 11,
   "id": "fd67a88b",
   "metadata": {},
   "outputs": [
    {
     "name": "stdout",
     "output_type": "stream",
     "text": [
      "[[3 4 2]\n",
      " [5 1 0]\n",
      " [9 9 8]]\n"
     ]
    }
   ],
   "source": [
    "a=np.array([[3,4,2],[5,1,0],[9,9,8]])\n",
    "print(a)"
   ]
  },
  {
   "cell_type": "code",
   "execution_count": 12,
   "id": "361e1bac",
   "metadata": {},
   "outputs": [
    {
     "name": "stdout",
     "output_type": "stream",
     "text": [
      "[[3 5 9]\n",
      " [4 1 9]\n",
      " [2 0 8]]\n"
     ]
    }
   ],
   "source": [
    "print(a.T)"
   ]
  },
  {
   "cell_type": "markdown",
   "id": "6777b2e1",
   "metadata": {},
   "source": [
    "## DETERMINENT"
   ]
  },
  {
   "cell_type": "code",
   "execution_count": 20,
   "id": "4be8af2c",
   "metadata": {},
   "outputs": [
    {
     "name": "stdout",
     "output_type": "stream",
     "text": [
      "-63.99999999999998\n",
      "-64\n"
     ]
    }
   ],
   "source": [
    "print(np.linalg.det(a))\n",
    "print(3*(8)-5*(32-18)+9*(-2))"
   ]
  },
  {
   "cell_type": "markdown",
   "id": "2218acba",
   "metadata": {},
   "source": [
    "## INVERSE"
   ]
  },
  {
   "cell_type": "code",
   "execution_count": 24,
   "id": "fa6d7c00",
   "metadata": {},
   "outputs": [
    {
     "name": "stdout",
     "output_type": "stream",
     "text": [
      "[[-0.125     0.21875   0.03125 ]\n",
      " [ 0.625    -0.09375  -0.15625 ]\n",
      " [-0.5625   -0.140625  0.265625]]\n"
     ]
    }
   ],
   "source": [
    "inv= np.linalg.inv(a)\n",
    "print(inv)"
   ]
  },
  {
   "cell_type": "markdown",
   "id": "658e91cb",
   "metadata": {},
   "source": [
    "## SOLVING EQUATION"
   ]
  },
  {
   "cell_type": "markdown",
   "id": "51d58806",
   "metadata": {},
   "source": [
    "##### 3x + 4y+ z=3\n",
    "##### 9x + y=1\n",
    "##### y + 9z=0"
   ]
  },
  {
   "cell_type": "code",
   "execution_count": 25,
   "id": "93803e17",
   "metadata": {},
   "outputs": [
    {
     "data": {
      "text/plain": [
       "array([ 0.02777778,  0.75      , -0.08333333])"
      ]
     },
     "execution_count": 25,
     "metadata": {},
     "output_type": "execute_result"
    }
   ],
   "source": [
    "v= np.array([[3,4,1],[9,1,0],[0,1,9]])\n",
    "c= np.array([3,1,0])\n",
    "np.linalg.solve(v,c)"
   ]
  },
  {
   "cell_type": "markdown",
   "id": "2cacac52",
   "metadata": {},
   "source": [
    "## EIGEN VALUES"
   ]
  },
  {
   "cell_type": "code",
   "execution_count": 26,
   "id": "c87e88c5",
   "metadata": {},
   "outputs": [],
   "source": [
    "e= np.array([[2,0,9],[2,1,7],[2,5,5]])"
   ]
  },
  {
   "cell_type": "code",
   "execution_count": 31,
   "id": "446223b6",
   "metadata": {},
   "outputs": [
    {
     "data": {
      "text/plain": [
       "array([[-0.59047276, -0.96093   , -0.81216284],\n",
       "       [-0.52942933,  0.11356943, -0.37847767],\n",
       "       [-0.60913587,  0.25241933,  0.44401146]])"
      ]
     },
     "execution_count": 31,
     "metadata": {},
     "output_type": "execute_result"
    }
   ],
   "source": [
    "w,v =np.linalg.eig(e)\n",
    "v"
   ]
  },
  {
   "cell_type": "code",
   "execution_count": 34,
   "id": "8608d80d",
   "metadata": {},
   "outputs": [
    {
     "name": "stdout",
     "output_type": "stream",
     "text": [
      "[-0.59047276 -0.52942933 -0.60913587]\n"
     ]
    }
   ],
   "source": [
    "# FIRST EIGEN vector\n",
    "v1= v[:,0]\n",
    "print(v1)"
   ]
  },
  {
   "cell_type": "code",
   "execution_count": null,
   "id": "739faea3",
   "metadata": {},
   "outputs": [],
   "source": []
  },
  {
   "cell_type": "markdown",
   "id": "e2e90b46",
   "metadata": {},
   "source": [
    "## vector product"
   ]
  },
  {
   "cell_type": "code",
   "execution_count": null,
   "id": "cc4ee39b",
   "metadata": {},
   "outputs": [],
   "source": [
    "# cross product"
   ]
  },
  {
   "cell_type": "code",
   "execution_count": 14,
   "id": "52c9e706",
   "metadata": {},
   "outputs": [],
   "source": [
    "b1= np.array([3,5,6])"
   ]
  },
  {
   "cell_type": "code",
   "execution_count": 15,
   "id": "e2c09bf0",
   "metadata": {},
   "outputs": [],
   "source": [
    "b2=np.array([4,7,1])"
   ]
  },
  {
   "cell_type": "code",
   "execution_count": 17,
   "id": "6190bd51",
   "metadata": {},
   "outputs": [
    {
     "name": "stdout",
     "output_type": "stream",
     "text": [
      "[-37  21   1]\n"
     ]
    }
   ],
   "source": [
    "print(np.cross(b1,b2))"
   ]
  },
  {
   "cell_type": "code",
   "execution_count": null,
   "id": "5e31983a",
   "metadata": {},
   "outputs": [],
   "source": [
    "# dot product"
   ]
  },
  {
   "cell_type": "code",
   "execution_count": 18,
   "id": "da2d7347",
   "metadata": {},
   "outputs": [
    {
     "name": "stdout",
     "output_type": "stream",
     "text": [
      "53\n"
     ]
    }
   ],
   "source": [
    "print(np.dot(b1,b2))"
   ]
  }
 ],
 "metadata": {
  "kernelspec": {
   "display_name": "Python 3 (ipykernel)",
   "language": "python",
   "name": "python3"
  },
  "language_info": {
   "codemirror_mode": {
    "name": "ipython",
    "version": 3
   },
   "file_extension": ".py",
   "mimetype": "text/x-python",
   "name": "python",
   "nbconvert_exporter": "python",
   "pygments_lexer": "ipython3",
   "version": "3.9.4"
  }
 },
 "nbformat": 4,
 "nbformat_minor": 5
}
